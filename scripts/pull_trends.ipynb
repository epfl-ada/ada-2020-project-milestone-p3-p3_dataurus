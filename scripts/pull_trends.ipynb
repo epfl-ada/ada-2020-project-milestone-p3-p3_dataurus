{
 "metadata": {
  "language_info": {
   "codemirror_mode": {
    "name": "ipython",
    "version": 3
   },
   "file_extension": ".py",
   "mimetype": "text/x-python",
   "name": "python",
   "nbconvert_exporter": "python",
   "pygments_lexer": "ipython3",
   "version": "3.8.5-final"
  },
  "orig_nbformat": 2,
  "kernelspec": {
   "name": "python3",
   "display_name": "Python 3",
   "language": "python"
  }
 },
 "nbformat": 4,
 "nbformat_minor": 2,
 "cells": [
  {
   "cell_type": "code",
   "execution_count": 2,
   "metadata": {},
   "outputs": [],
   "source": [
    "from pytrends.request import TrendReq\n",
    "from utils import trends \n",
    "\n",
    "pytrends = TrendReq(hl='en-US', tz=360)\n"
   ]
  },
  {
   "cell_type": "code",
   "execution_count": 7,
   "metadata": {},
   "outputs": [
    {
     "output_type": "execute_result",
     "data": {
      "text/plain": [
       "            S&P 500 Index  isPartial\n",
       "date                                \n",
       "2005-07-01             12      False\n",
       "2005-08-01              7      False\n",
       "2005-09-01              8      False\n",
       "2005-10-01              2      False\n",
       "2005-11-01             18      False\n",
       "...                   ...        ...\n",
       "2020-04-01             60      False\n",
       "2020-05-01             52      False\n",
       "2020-06-01             62      False\n",
       "2020-07-01             57      False\n",
       "2020-08-01             52      False\n",
       "\n",
       "[182 rows x 2 columns]"
      ],
      "text/html": "<div>\n<style scoped>\n    .dataframe tbody tr th:only-of-type {\n        vertical-align: middle;\n    }\n\n    .dataframe tbody tr th {\n        vertical-align: top;\n    }\n\n    .dataframe thead th {\n        text-align: right;\n    }\n</style>\n<table border=\"1\" class=\"dataframe\">\n  <thead>\n    <tr style=\"text-align: right;\">\n      <th></th>\n      <th>S&amp;P 500 Index</th>\n      <th>isPartial</th>\n    </tr>\n    <tr>\n      <th>date</th>\n      <th></th>\n      <th></th>\n    </tr>\n  </thead>\n  <tbody>\n    <tr>\n      <th>2005-07-01</th>\n      <td>12</td>\n      <td>False</td>\n    </tr>\n    <tr>\n      <th>2005-08-01</th>\n      <td>7</td>\n      <td>False</td>\n    </tr>\n    <tr>\n      <th>2005-09-01</th>\n      <td>8</td>\n      <td>False</td>\n    </tr>\n    <tr>\n      <th>2005-10-01</th>\n      <td>2</td>\n      <td>False</td>\n    </tr>\n    <tr>\n      <th>2005-11-01</th>\n      <td>18</td>\n      <td>False</td>\n    </tr>\n    <tr>\n      <th>...</th>\n      <td>...</td>\n      <td>...</td>\n    </tr>\n    <tr>\n      <th>2020-04-01</th>\n      <td>60</td>\n      <td>False</td>\n    </tr>\n    <tr>\n      <th>2020-05-01</th>\n      <td>52</td>\n      <td>False</td>\n    </tr>\n    <tr>\n      <th>2020-06-01</th>\n      <td>62</td>\n      <td>False</td>\n    </tr>\n    <tr>\n      <th>2020-07-01</th>\n      <td>57</td>\n      <td>False</td>\n    </tr>\n    <tr>\n      <th>2020-08-01</th>\n      <td>52</td>\n      <td>False</td>\n    </tr>\n  </tbody>\n</table>\n<p>182 rows × 2 columns</p>\n</div>"
     },
     "metadata": {},
     "execution_count": 7
    }
   ],
   "source": [
    "#  notes:\n",
    "#  maximum single day duration : 8 months\n",
    "#  maximum weekly duration     : 62 months\n",
    "#  maximum months              : \n",
    "\n",
    "\n",
    "kw_list = [\"S&P 500 Index\"]\n",
    "# Finance: 1163\n",
    "pytrends.build_payload(kw_list, cat=1163, timeframe='2005-06-14 2020-08-14', geo='', gprop='')\n",
    "pytrends.interest_over_time()"
   ]
  },
  {
   "cell_type": "code",
   "execution_count": 5,
   "metadata": {},
   "outputs": [
    {
     "output_type": "stream",
     "name": "stdout",
     "text": [
      "2016-08-14\n",
      "2015-06-01 00:00:00\n",
      "2015-06-30 00:00:00\n",
      "2015-07-01 00:00:00\n",
      "2015-07-31 00:00:00\n",
      "2015-08-01 00:00:00\n",
      "2015-08-31 00:00:00\n",
      "2015-09-01 00:00:00\n",
      "2015-09-30 00:00:00\n",
      "2015-10-01 00:00:00\n",
      "2015-10-31 00:00:00\n",
      "2015-11-01 00:00:00\n",
      "2015-11-30 00:00:00\n",
      "2015-12-01 00:00:00\n",
      "2015-12-31 00:00:00\n",
      "2016-01-01 00:00:00\n",
      "2016-01-31 00:00:00\n",
      "2016-02-01 00:00:00\n",
      "2016-02-29 00:00:00\n",
      "2016-03-01 00:00:00\n",
      "2016-03-31 00:00:00\n",
      "2016-04-01 00:00:00\n",
      "2016-04-30 00:00:00\n",
      "2016-05-01 00:00:00\n",
      "2016-05-31 00:00:00\n",
      "2016-06-01 00:00:00\n",
      "2016-06-30 00:00:00\n",
      "2016-07-01 00:00:00\n",
      "2016-07-31 00:00:00\n"
     ]
    }
   ],
   "source": [
    "df = trends.pullTrends(pytrends, [\"car\"], '2015-06-14' ,'2016-08-14')"
   ]
  },
  {
   "cell_type": "code",
   "execution_count": 158,
   "metadata": {
    "tags": []
   },
   "outputs": [
    {
     "output_type": "stream",
     "name": "stdout",
     "text": [
      "            car  isPartial\ndate                      \n2010-06-01   95      False\n2010-06-02   93      False\n2010-06-03   90      False\n2010-06-04   91      False\n2010-06-05   92      False\n2010-06-06   94      False\n2010-06-07   92      False\n2010-06-08   97      False\n2010-06-09   90      False\n2010-06-10   89      False\n2010-06-11   87      False\n2010-06-12   91      False\n2010-06-13   95      False\n2010-06-14   88      False\n2010-06-15   88      False\n2010-06-16   88      False\n2010-06-17   88      False\n2010-06-18   87      False\n2010-06-19   95      False\n2010-06-20   96      False\n2010-06-21   94      False\n2010-06-22   93      False\n2010-06-23   88      False\n2010-06-24   91      False\n2010-06-25   93      False\n2010-06-26   95      False\n2010-06-27   96      False\n2010-06-28  100      False\n2010-06-29   97      False\n2010-06-30   91      False\n            car  isPartial\ndate                      \n2010-07-01   94      False\n2010-08-01   91      False\n2010-09-01   85      False\n2010-10-01   84      False\n2010-11-01   76      False\n...         ...        ...\n2016-04-01   93      False\n2016-05-01   95      False\n2016-06-01   92      False\n2016-07-01  100      False\n2016-08-01   97      False\n\n[74 rows x 2 columns]\n"
     ]
    },
    {
     "output_type": "error",
     "ename": "NameError",
     "evalue": "name 'X' is not defined",
     "traceback": [
      "\u001b[0;31m---------------------------------------------------------------------------\u001b[0m",
      "\u001b[0;31mNameError\u001b[0m                                 Traceback (most recent call last)",
      "\u001b[0;32m<ipython-input-158-39b09ebb0efb>\u001b[0m in \u001b[0;36m<module>\u001b[0;34m\u001b[0m\n\u001b[1;32m      6\u001b[0m \u001b[0;32mfor\u001b[0m \u001b[0mmonth\u001b[0m \u001b[0;32min\u001b[0m \u001b[0mdaily_list\u001b[0m\u001b[0;34m:\u001b[0m\u001b[0;34m\u001b[0m\u001b[0;34m\u001b[0m\u001b[0m\n\u001b[1;32m      7\u001b[0m \u001b[0;34m\u001b[0m\u001b[0m\n\u001b[0;32m----> 8\u001b[0;31m     \u001b[0mX\u001b[0m\u001b[0;34m\u001b[0m\u001b[0;34m\u001b[0m\u001b[0m\n\u001b[0m",
      "\u001b[0;31mNameError\u001b[0m: name 'X' is not defined"
     ]
    }
   ],
   "source": [
    "monthly, daily_list = df\n",
    "\n",
    "print(daily_list[0])\n",
    "print(monthly)\n",
    "\n",
    "# for month in daily_list:"
   ]
  },
  {
   "cell_type": "code",
   "execution_count": 77,
   "metadata": {},
   "outputs": [
    {
     "output_type": "execute_result",
     "data": {
      "text/plain": [
       "DatetimeIndex(['2005-07-01', '2005-08-01', '2005-09-01', '2005-10-01',\n",
       "               '2005-11-01', '2005-12-01', '2006-01-01', '2006-02-01',\n",
       "               '2006-03-01', '2006-04-01',\n",
       "               ...\n",
       "               '2019-11-01', '2019-12-01', '2020-01-01', '2020-02-01',\n",
       "               '2020-03-01', '2020-04-01', '2020-05-01', '2020-06-01',\n",
       "               '2020-07-01', '2020-08-01'],\n",
       "              dtype='datetime64[ns]', name='date', length=182, freq=None)"
      ]
     },
     "metadata": {},
     "execution_count": 77
    }
   ],
   "source": [
    "df.index"
   ]
  },
  {
   "cell_type": "code",
   "execution_count": 84,
   "metadata": {},
   "outputs": [
    {
     "output_type": "execute_result",
     "data": {
      "text/plain": [
       "odict_keys(['Oct-14', 'Nov-14', 'Dec-14', 'Jan-15', 'Feb-15', 'Mar-15', 'Apr-15', 'May-15', 'Jun-15', 'Jul-15', 'Aug-15', 'Sep-15', 'Oct-15', 'Nov-15', 'Dec-15', 'Jan-16'])"
      ]
     },
     "metadata": {},
     "execution_count": 84
    }
   ],
   "source": [
    "\n"
   ]
  }
 ]
}