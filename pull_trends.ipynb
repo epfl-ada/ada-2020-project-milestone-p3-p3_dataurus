{
 "metadata": {
  "language_info": {
   "codemirror_mode": {
    "name": "ipython",
    "version": 3
   },
   "file_extension": ".py",
   "mimetype": "text/x-python",
   "name": "python",
   "nbconvert_exporter": "python",
   "pygments_lexer": "ipython3",
   "version": "3.8.3-final"
  },
  "orig_nbformat": 2,
  "kernelspec": {
   "name": "python3",
   "display_name": "Python 3.8.3 64-bit ('anaconda3': virtualenv)",
   "metadata": {
    "interpreter": {
     "hash": "1235eae15c3b0337ba8f1ba0233b96eef73c37f3972fbf6a2461a3974c04b0b7"
    }
   }
  }
 },
 "nbformat": 4,
 "nbformat_minor": 2,
 "cells": [
  {
   "cell_type": "code",
   "execution_count": 62,
   "metadata": {},
   "outputs": [],
   "source": [
    "from pytrends.request import TrendReq\n",
    "\n",
    "pytrends = TrendReq(hl='en-US', tz=360)\n"
   ]
  },
  {
   "cell_type": "code",
   "execution_count": 69,
   "metadata": {},
   "outputs": [],
   "source": [
    "import pandas as pd\n",
    "from datetime import timedelta\n",
    "\n",
    "def pullTrends(kw_list, start_date, end_date):\n",
    "\n",
    "    term = kw_list[0]\n",
    "    def toTimeframe(ts1, ts2):\n",
    "        s1 = f\"{ts1:%Y-%m-%d}\" \n",
    "        s2 = f\"{ts2:%Y-%m-%d}\"\n",
    "        return \"{0} {1}\".format(s1, s2)\n",
    "\n",
    "    def diff_month(d1, d2):\n",
    "        return (d1.year - d2.year) * 12 + d1.month - d2.month\n",
    "\n",
    "\n",
    "    def next_month(d):\n",
    "        if (d.month == 12):\n",
    "            d = d.replace(year=d.year+1, month=1)\n",
    "        else:\n",
    "            d = d.replace(month=d.month+1)\n",
    "        return d\n",
    "\n",
    "    def last_day_of_month(d):\n",
    "        d = d.replace(day=1)\n",
    "        d = next_month(d)\n",
    "        \n",
    "        d += timedelta(days=-1)\n",
    "        return d\n",
    "\n",
    "    def first_day_of_month(d):\n",
    "        return d.replace(day=1)\n",
    "    \n",
    "    def renormalize(df):\n",
    "        months, daylist = df\n",
    "        for i in range(months.shape[0]):\n",
    "            daylist[i][term] = daylist[i][term].apply(lambda x : x*months.iloc[i][term])\n",
    "        return daylist\n",
    "    \n",
    "    def flatten(daylist):\n",
    "        flattened = daylist[0]\n",
    "        for i in range(1, len(daylist)):\n",
    "            flattened = flattened.append(daylist[i])\n",
    "        return flattened\n",
    "\n",
    "\n",
    "    start_date = pd.to_datetime(start_date)\n",
    "    st_date =  start_date\n",
    "    end_date = pd.to_datetime(end_date)\n",
    "    n_months = diff_month(end_date, start_date)\n",
    "\n",
    "\n",
    "\n",
    "    # pull months\n",
    "\n",
    "    # hacky fix dont change\n",
    "    if n_months < 63:\n",
    "        start_date_tmp = start_date.replace(year=start_date.year - int((64-n_months+11)/12))\n",
    "    else:\n",
    "        start_date_tmp = start_date\n",
    "    # to string\n",
    "    start_date_str = f\"{start_date_tmp:%Y-%m-%d}\"\n",
    "    end_date_str = f\"{end_date:%Y-%m-%d}\"\n",
    "    \n",
    "    #get monthly\n",
    "    pytrends.build_payload(kw_list, cat=0, timeframe=\"{0} {1}\".format(start_date_str, end_date_str), geo='', gprop='')\n",
    "    monthly = pytrends.interest_over_time()\n",
    "    monthly = monthly[monthly.index > st_date]\n",
    "\n",
    "\n",
    "    #get daily\n",
    "    start_date = first_day_of_month(st_date)\n",
    "    tmp_end_date = start_date\n",
    "    tmp_end_date =last_day_of_month(start_date)\n",
    "\n",
    "    daylist = []\n",
    "\n",
    "    for i in range(n_months):\n",
    "\n",
    "        pytrends.build_payload(kw_list, cat=0, timeframe=toTimeframe(start_date, tmp_end_date) , geo='', gprop='')\n",
    "        daily = pytrends.interest_over_time()\n",
    "\n",
    "        daylist.append(daily)        \n",
    "\n",
    "        start_date = next_month(start_date)\n",
    "        tmp_end_date = last_day_of_month(start_date)\n",
    "\n",
    "\n",
    "    return flatten(renormalize((monthly, daylist))).drop(['isPartial'])\n",
    "\n",
    "\n",
    "\n"
   ]
  },
  {
   "cell_type": "code",
   "execution_count": 70,
   "metadata": {},
   "outputs": [
    {
     "output_type": "stream",
     "name": "stdout",
     "text": [
      "            s&p 500  isPartial\ndate                          \n2019-01-01      612      False\n2019-01-02     1602      False\n2019-01-03     1800      False\n2019-01-04     1494      False\n2019-01-05      504      False\n...             ...        ...\n2020-04-26      989      False\n2020-04-27     2537      False\n2020-04-28     2838      False\n2020-04-29     3397      False\n2020-04-30     2881      False\n\n[486 rows x 2 columns]\n"
     ]
    }
   ],
   "source": [
    "results = pullTrends([\"s&p 500\"], '2019-01-01' ,'2020-05-11')\n",
    "\n",
    "print(results)"
   ]
  },
  {
   "cell_type": "code",
   "execution_count": 71,
   "metadata": {},
   "outputs": [],
   "source": [
    "results.to_csv(\"snp500.csv\", sep='\\t')"
   ]
  },
  {
   "cell_type": "code",
   "execution_count": null,
   "metadata": {},
   "outputs": [],
   "source": []
  }
 ]
}