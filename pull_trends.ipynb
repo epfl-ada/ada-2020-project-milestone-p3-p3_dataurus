{
 "metadata": {
  "language_info": {
   "codemirror_mode": {
    "name": "ipython",
    "version": 3
   },
   "file_extension": ".py",
   "mimetype": "text/x-python",
   "name": "python",
   "nbconvert_exporter": "python",
   "pygments_lexer": "ipython3",
   "version": "3.8.3-final"
  },
  "orig_nbformat": 2,
  "kernelspec": {
   "name": "python3",
   "display_name": "Python 3.8.3 64-bit ('base': conda)",
   "metadata": {
    "interpreter": {
     "hash": "1235eae15c3b0337ba8f1ba0233b96eef73c37f3972fbf6a2461a3974c04b0b7"
    }
   }
  }
 },
 "nbformat": 4,
 "nbformat_minor": 2,
 "cells": [
  {
   "cell_type": "code",
   "execution_count": null,
   "metadata": {},
   "outputs": [],
   "source": [
    "from pytrends.request import TrendReq\n",
    "\n",
    "pytrends = TrendReq(hl='en-US', tz=360)\n"
   ]
  },
  {
   "cell_type": "code",
   "execution_count": null,
   "metadata": {},
   "outputs": [],
   "source": [
    "#  notes:\n",
    "#  maximum single day duration : 8 months\n",
    "#  maximum weekly duration     : 62 months\n",
    "#  maximum months              : \n",
    "\n",
    "\n",
    "kw_list = [\"Blockchain\"]\n",
    "pytrends.build_payload(kw_list, cat=0, timeframe='2005-06-14 2020-08-14', geo='', gprop='')\n",
    "pytrends.interest_over_time()"
   ]
  },
  {
   "cell_type": "code",
   "execution_count": 161,
   "metadata": {},
   "outputs": [],
   "source": [
    "\n"
   ]
  },
  {
   "cell_type": "code",
   "execution_count": 162,
   "metadata": {},
   "outputs": [
    {
     "output_type": "stream",
     "name": "stdout",
     "text": [
      "2016-08-14\n",
      "2010-06-01 00:00:00\n",
      "2010-06-30 00:00:00\n",
      "2010-07-01 00:00:00\n",
      "2010-07-31 00:00:00\n",
      "2010-08-01 00:00:00\n",
      "2010-08-31 00:00:00\n",
      "2010-09-01 00:00:00\n",
      "2010-09-30 00:00:00\n",
      "2010-10-01 00:00:00\n",
      "2010-10-31 00:00:00\n",
      "2010-11-01 00:00:00\n",
      "2010-11-30 00:00:00\n",
      "2010-12-01 00:00:00\n",
      "2010-12-31 00:00:00\n",
      "2011-01-01 00:00:00\n",
      "2011-01-31 00:00:00\n",
      "2011-02-01 00:00:00\n",
      "2011-02-28 00:00:00\n",
      "2011-03-01 00:00:00\n",
      "2011-03-31 00:00:00\n",
      "2011-04-01 00:00:00\n",
      "2011-04-30 00:00:00\n",
      "2011-05-01 00:00:00\n",
      "2011-05-31 00:00:00\n",
      "2011-06-01 00:00:00\n",
      "2011-06-30 00:00:00\n",
      "2011-07-01 00:00:00\n",
      "2011-07-31 00:00:00\n"
     ]
    }
   ],
   "source": [
    "df = pullTrends([\"car\"], '2015-06-14' ,'2016-08-14')\n"
   ]
  },
  {
   "cell_type": "code",
   "execution_count": 158,
   "metadata": {
    "tags": []
   },
   "outputs": [
    {
     "output_type": "stream",
     "name": "stdout",
     "text": [
      "            car  isPartial\ndate                      \n2010-06-01   95      False\n2010-06-02   93      False\n2010-06-03   90      False\n2010-06-04   91      False\n2010-06-05   92      False\n2010-06-06   94      False\n2010-06-07   92      False\n2010-06-08   97      False\n2010-06-09   90      False\n2010-06-10   89      False\n2010-06-11   87      False\n2010-06-12   91      False\n2010-06-13   95      False\n2010-06-14   88      False\n2010-06-15   88      False\n2010-06-16   88      False\n2010-06-17   88      False\n2010-06-18   87      False\n2010-06-19   95      False\n2010-06-20   96      False\n2010-06-21   94      False\n2010-06-22   93      False\n2010-06-23   88      False\n2010-06-24   91      False\n2010-06-25   93      False\n2010-06-26   95      False\n2010-06-27   96      False\n2010-06-28  100      False\n2010-06-29   97      False\n2010-06-30   91      False\n            car  isPartial\ndate                      \n2010-07-01   94      False\n2010-08-01   91      False\n2010-09-01   85      False\n2010-10-01   84      False\n2010-11-01   76      False\n...         ...        ...\n2016-04-01   93      False\n2016-05-01   95      False\n2016-06-01   92      False\n2016-07-01  100      False\n2016-08-01   97      False\n\n[74 rows x 2 columns]\n"
     ]
    },
    {
     "output_type": "error",
     "ename": "NameError",
     "evalue": "name 'X' is not defined",
     "traceback": [
      "\u001b[0;31m---------------------------------------------------------------------------\u001b[0m",
      "\u001b[0;31mNameError\u001b[0m                                 Traceback (most recent call last)",
      "\u001b[0;32m<ipython-input-158-39b09ebb0efb>\u001b[0m in \u001b[0;36m<module>\u001b[0;34m\u001b[0m\n\u001b[1;32m      6\u001b[0m \u001b[0;32mfor\u001b[0m \u001b[0mmonth\u001b[0m \u001b[0;32min\u001b[0m \u001b[0mdaily_list\u001b[0m\u001b[0;34m:\u001b[0m\u001b[0;34m\u001b[0m\u001b[0;34m\u001b[0m\u001b[0m\n\u001b[1;32m      7\u001b[0m \u001b[0;34m\u001b[0m\u001b[0m\n\u001b[0;32m----> 8\u001b[0;31m     \u001b[0mX\u001b[0m\u001b[0;34m\u001b[0m\u001b[0;34m\u001b[0m\u001b[0m\n\u001b[0m",
      "\u001b[0;31mNameError\u001b[0m: name 'X' is not defined"
     ]
    }
   ],
   "source": [
    "monthly, daily_list = df\n",
    "\n",
    "print(daily_list[0])\n",
    "print(monthly)\n",
    "\n",
    "for month in daily_list:\n",
    "\n",
    "    X"
   ]
  },
  {
   "cell_type": "code",
   "execution_count": 77,
   "metadata": {},
   "outputs": [
    {
     "output_type": "execute_result",
     "data": {
      "text/plain": [
       "DatetimeIndex(['2005-07-01', '2005-08-01', '2005-09-01', '2005-10-01',\n",
       "               '2005-11-01', '2005-12-01', '2006-01-01', '2006-02-01',\n",
       "               '2006-03-01', '2006-04-01',\n",
       "               ...\n",
       "               '2019-11-01', '2019-12-01', '2020-01-01', '2020-02-01',\n",
       "               '2020-03-01', '2020-04-01', '2020-05-01', '2020-06-01',\n",
       "               '2020-07-01', '2020-08-01'],\n",
       "              dtype='datetime64[ns]', name='date', length=182, freq=None)"
      ]
     },
     "metadata": {},
     "execution_count": 77
    }
   ],
   "source": [
    "df.index"
   ]
  },
  {
   "cell_type": "code",
   "execution_count": 84,
   "metadata": {},
   "outputs": [
    {
     "output_type": "execute_result",
     "data": {
      "text/plain": [
       "odict_keys(['Oct-14', 'Nov-14', 'Dec-14', 'Jan-15', 'Feb-15', 'Mar-15', 'Apr-15', 'May-15', 'Jun-15', 'Jul-15', 'Aug-15', 'Sep-15', 'Oct-15', 'Nov-15', 'Dec-15', 'Jan-16'])"
      ]
     },
     "metadata": {},
     "execution_count": 84
    }
   ],
   "source": [
    "\n"
   ]
  },
  {
   "cell_type": "code",
   "execution_count": null,
   "metadata": {},
   "outputs": [],
   "source": []
  }
 ]
}