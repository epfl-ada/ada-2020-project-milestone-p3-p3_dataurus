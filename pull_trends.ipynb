{
 "metadata": {
  "language_info": {
   "codemirror_mode": {
    "name": "ipython",
    "version": 3
   },
   "file_extension": ".py",
   "mimetype": "text/x-python",
   "name": "python",
   "nbconvert_exporter": "python",
   "pygments_lexer": "ipython3",
   "version": "3.8.3-final"
  },
  "orig_nbformat": 2,
  "kernelspec": {
   "name": "python3",
   "display_name": "Python 3.8.3 64-bit ('anaconda3': virtualenv)",
   "metadata": {
    "interpreter": {
     "hash": "1235eae15c3b0337ba8f1ba0233b96eef73c37f3972fbf6a2461a3974c04b0b7"
    }
   }
  }
 },
 "nbformat": 4,
 "nbformat_minor": 2,
 "cells": [
  {
   "cell_type": "code",
   "execution_count": 3,
   "metadata": {},
   "outputs": [],
   "source": [
    "from pytrends.request import TrendReq\n",
    "\n",
    "pytrends = TrendReq(hl='en-US', tz=360)\n"
   ]
  },
  {
   "cell_type": "code",
   "execution_count": 59,
   "metadata": {},
   "outputs": [],
   "source": [
    "from datetime import datetime\n",
    "\n",
    "def pullTrends(kw_list, start_date, end_date):\n",
    "\n",
    "    term = kw_list[0]\n",
    "    def toTimeframe(ts1, ts2):\n",
    "        s1 = f\"{ts1:%Y-%m-%d}\" \n",
    "        s2 = f\"{ts2:%Y-%m-%d}\"\n",
    "        return \"{0} {1}\".format(s1, s2)\n",
    "\n",
    "    def diff_month(d1, d2):\n",
    "        return (d1.year - d2.year) * 12 + d1.month - d2.month\n",
    "\n",
    "\n",
    "    def next_month(d):\n",
    "        if (d.month == 12):\n",
    "            d = d.replace(year=d.year+1, month=1)\n",
    "        else:\n",
    "            d = d.replace(month=d.month+1)\n",
    "        return d\n",
    "\n",
    "    def last_day_of_month(d):\n",
    "        d = d.replace(day=1)\n",
    "        d = next_month(d)\n",
    "        \n",
    "        d += timedelta(days=-1)\n",
    "        return d\n",
    "\n",
    "    def first_day_of_month(d):\n",
    "        return d.replace(day=1)\n",
    "    \n",
    "    def renormalize(df):\n",
    "        months, daylist = df\n",
    "        for i in range(months.shape[0]):\n",
    "            daylist[i][term] = daylist[i][term].apply(lambda x : x*months.iloc[i][term]/100)\n",
    "        return daylist\n",
    "    \n",
    "    def flatten(daylist):\n",
    "        flattened = daylist[0]\n",
    "        for i in range(1, len(daylist)):\n",
    "            flattened = flattened.append(daylist[i])\n",
    "        return flattened\n",
    "\n",
    "\n",
    "    start_date = pd.to_datetime(start_date)\n",
    "    st_date =  start_date\n",
    "    end_date = pd.to_datetime(end_date)\n",
    "    n_months = diff_month(end_date, start_date)\n",
    "\n",
    "\n",
    "\n",
    "    # pull months\n",
    "\n",
    "    # hacky fix dont change\n",
    "    if n_months < 63:\n",
    "        start_date_tmp = start_date.replace(year=start_date.year - int((64-n_months+11)/12))\n",
    "    else:\n",
    "        start_date_tmp = start_date\n",
    "    # to string\n",
    "    start_date_str = f\"{start_date_tmp:%Y-%m-%d}\"\n",
    "    end_date_str = f\"{end_date:%Y-%m-%d}\"\n",
    "    \n",
    "    #get monthly\n",
    "    pytrends.build_payload(kw_list, cat=0, timeframe=\"{0} {1}\".format(start_date_str, end_date_str), geo='', gprop='')\n",
    "    monthly = pytrends.interest_over_time()\n",
    "    monthly = monthly[monthly.index > st_date]\n",
    "\n",
    "\n",
    "    #get daily\n",
    "    start_date = first_day_of_month(st_date)\n",
    "    tmp_end_date = start_date\n",
    "    tmp_end_date =last_day_of_month(start_date)\n",
    "\n",
    "    daylist = []\n",
    "\n",
    "    for i in range(n_months):\n",
    "\n",
    "        pytrends.build_payload(kw_list, cat=0, timeframe=toTimeframe(start_date, tmp_end_date) , geo='', gprop='')\n",
    "        daily = pytrends.interest_over_time()\n",
    "\n",
    "        daylist.append(daily)        \n",
    "\n",
    "        start_date = next_month(start_date)\n",
    "        tmp_end_date = last_day_of_month(start_date)\n",
    "\n",
    "\n",
    "    #return flatten(renormalize((monthly, daylist)))\n",
    "    return (monthly, daylist)\n",
    "\n",
    "\n",
    "\n"
   ]
  },
  {
   "cell_type": "code",
   "execution_count": 60,
   "metadata": {},
   "outputs": [
    {
     "output_type": "stream",
     "name": "stdout",
     "text": [
      "(            Bitcoin  isPartial\ndate                          \n2019-02-01        9      False\n2019-03-01        9      False\n2019-04-01       12      False\n2019-05-01       17      False\n2019-06-01       20      False\n2019-07-01       18      False\n2019-08-01       16      False\n2019-09-01       13      False\n2019-10-01       12      False\n2019-11-01       11      False\n2019-12-01       11      False\n2020-01-01       13      False\n2020-02-01       14      False\n2020-03-01       19      False\n2020-04-01       16      False\n2020-05-01       19      False, [            Bitcoin  isPartial\ndate                          \n2019-01-01       80      False\n2019-01-02       93      False\n2019-01-03       91      False\n2019-01-04       94      False\n2019-01-05       75      False\n2019-01-06       78      False\n2019-01-07       82      False\n2019-01-08       83      False\n2019-01-09       87      False\n2019-01-10      100      False\n2019-01-11       90      False\n2019-01-12       78      False\n2019-01-13       77      False\n2019-01-14       82      False\n2019-01-15       82      False\n2019-01-16       81      False\n2019-01-17       74      False\n2019-01-18       77      False\n2019-01-19       71      False\n2019-01-20       68      False\n2019-01-21       71      False\n2019-01-22       71      False\n2019-01-23       76      False\n2019-01-24       79      False\n2019-01-25       72      False\n2019-01-26       64      False\n2019-01-27       64      False\n2019-01-28       80      False\n2019-01-29       80      False\n2019-01-30       73      False\n2019-01-31       70      False,             Bitcoin  isPartial\ndate                          \n2019-02-01       80      False\n2019-02-02       70      False\n2019-02-03       61      False\n2019-02-04       81      False\n2019-02-05       92      False\n2019-02-06       86      False\n2019-02-07       83      False\n2019-02-08       91      False\n2019-02-09       80      False\n2019-02-10       73      False\n2019-02-11       78      False\n2019-02-12       79      False\n2019-02-13       76      False\n2019-02-14       74      False\n2019-02-15       70      False\n2019-02-16       63      False\n2019-02-17       64      False\n2019-02-18       95      False\n2019-02-19       98      False\n2019-02-20       91      False\n2019-02-21       90      False\n2019-02-22       86      False\n2019-02-23       81      False\n2019-02-24      100      False\n2019-02-25       90      False\n2019-02-26       81      False\n2019-02-27       76      False\n2019-02-28       79      False,             Bitcoin  isPartial\ndate                          \n2019-03-01       82      False\n2019-03-02       78      False\n2019-03-03       77      False\n2019-03-04       85      False\n2019-03-05       96      False\n2019-03-06       93      False\n2019-03-07       89      False\n2019-03-08       78      False\n2019-03-09       84      False\n2019-03-10       78      False\n2019-03-11       90      False\n2019-03-12       90      False\n2019-03-13       80      False\n2019-03-14       83      False\n2019-03-15       77      False\n2019-03-16       78      False\n2019-03-17       78      False\n2019-03-18       88      False\n2019-03-19       95      False\n2019-03-20       94      False\n2019-03-21      100      False\n2019-03-22       83      False\n2019-03-23       73      False\n2019-03-24       70      False\n2019-03-25       83      False\n2019-03-26       83      False\n2019-03-27       97      False\n2019-03-28       86      False\n2019-03-29       91      False\n2019-03-30       72      False\n2019-03-31       72      False,             Bitcoin  isPartial\ndate                          \n2019-04-01       44      False\n2019-04-02       97      False\n2019-04-03      100      False\n2019-04-04       74      False\n2019-04-05       60      False\n2019-04-06       50      False\n2019-04-07       54      False\n2019-04-08       64      False\n2019-04-09       59      False\n2019-04-10       59      False\n2019-04-11       58      False\n2019-04-12       53      False\n2019-04-13       43      False\n2019-04-14       43      False\n2019-04-15       48      False\n2019-04-16       50      False\n2019-04-17       50      False\n2019-04-18       48      False\n2019-04-19       44      False\n2019-04-20       46      False\n2019-04-21       46      False\n2019-04-22       49      False\n2019-04-23       62      False\n2019-04-24       60      False\n2019-04-25       53      False\n2019-04-26       58      False\n2019-04-27       42      False\n2019-04-28       40      False\n2019-04-29       43      False\n2019-04-30       44      False,             Bitcoin  isPartial\ndate                          \n2019-05-01       34      False\n2019-05-02       35      False\n2019-05-03       45      False\n2019-05-04       38      False\n2019-05-05       39      False\n2019-05-06       39      False\n2019-05-07       45      False\n2019-05-08       44      False\n2019-05-09       50      False\n2019-05-10       57      False\n2019-05-11       72      False\n2019-05-12       73      False\n2019-05-13       83      False\n2019-05-14      100      False\n2019-05-15       80      False\n2019-05-16       72      False\n2019-05-17       75      False\n2019-05-18       57      False\n2019-05-19       62      False\n2019-05-20       57      False\n2019-05-21       62      False\n2019-05-22       57      False\n2019-05-23       53      False\n2019-05-24       56      False\n2019-05-25       46      False\n2019-05-26       48      False\n2019-05-27       74      False\n2019-05-28       61      False\n2019-05-29       59      False\n2019-05-30       61      False\n2019-05-31       56      False,             Bitcoin  isPartial\ndate                          \n2019-06-01       32      False\n2019-06-02       28      False\n2019-06-03       32      False\n2019-06-04       36      False\n2019-06-05       31      False\n2019-06-06       30      False\n2019-06-07       29      False\n2019-06-08       24      False\n2019-06-09       25      False\n2019-06-10       28      False\n2019-06-11       28      False\n2019-06-12       27      False\n2019-06-13       28      False\n2019-06-14       30      False\n2019-06-15       31      False\n2019-06-16       37      False\n2019-06-17       41      False\n2019-06-18       40      False\n2019-06-19       32      False\n2019-06-20       35      False\n2019-06-21       45      False\n2019-06-22       70      False\n2019-06-23       49      False\n2019-06-24       50      False\n2019-06-25       57      False\n2019-06-26      100      False\n2019-06-27       83      False\n2019-06-28       64      False\n2019-06-29       48      False\n2019-06-30       44      False,             Bitcoin  isPartial\ndate                          \n2019-07-01       99      False\n2019-07-02      100      False\n2019-07-03       92      False\n2019-07-04       83      False\n2019-07-05       79      False\n2019-07-06       68      False\n2019-07-07       65      False\n2019-07-08       82      False\n2019-07-09       93      False\n2019-07-10       95      False\n2019-07-11       86      False\n2019-07-12       88      False\n2019-07-13       71      False\n2019-07-14       74      False\n2019-07-15       90      False\n2019-07-16       90      False\n2019-07-17       93      False\n2019-07-18       87      False\n2019-07-19       75      False\n2019-07-20       64      False\n2019-07-21       64      False\n2019-07-22       66      False\n2019-07-23       70      False\n2019-07-24       73      False\n2019-07-25       68      False\n2019-07-26       63      False\n2019-07-27       63      False\n2019-07-28       59      False\n2019-07-29       64      False\n2019-07-30       62      False\n2019-07-31       63      False,             Bitcoin  isPartial\ndate                          \n2019-08-01       72      False\n2019-08-02       76      False\n2019-08-03       65      False\n2019-08-04       64      False\n2019-08-05       97      False\n2019-08-06      100      False\n2019-08-07       84      False\n2019-08-08       78      False\n2019-08-09       71      False\n2019-08-10       67      False\n2019-08-11       60      False\n2019-08-12       71      False\n2019-08-13       74      False\n2019-08-14       80      False\n2019-08-15       84      False\n2019-08-16       72      False\n2019-08-17       61      False\n2019-08-18       59      False\n2019-08-19       73      False\n2019-08-20       69      False\n2019-08-21       71      False\n2019-08-22       67      False\n2019-08-23       66      False\n2019-08-24       61      False\n2019-08-25       57      False\n2019-08-26       68      False\n2019-08-27       66      False\n2019-08-28       66      False\n2019-08-29       73      False\n2019-08-30       62      False\n2019-08-31       54      False,             Bitcoin  isPartial\ndate                          \n2019-09-01       60      False\n2019-09-02       77      False\n2019-09-03       81      False\n2019-09-04       74      False\n2019-09-05       69      False\n2019-09-06       72      False\n2019-09-07       59      False\n2019-09-08       60      False\n2019-09-09       65      False\n2019-09-10       65      False\n2019-09-11       69      False\n2019-09-12       66      False\n2019-09-13       63      False\n2019-09-14       55      False\n2019-09-15       55      False\n2019-09-16       62      False\n2019-09-17       60      False\n2019-09-18       62      False\n2019-09-19       63      False\n2019-09-20       58      False\n2019-09-21       51      False\n2019-09-22       51      False\n2019-09-23       63      False\n2019-09-24       87      False\n2019-09-25      100      False\n2019-09-26       95      False\n2019-09-27       84      False\n2019-09-28       64      False\n2019-09-29       63      False\n2019-09-30       72      False,             Bitcoin  isPartial\ndate                          \n2019-10-01       72      False\n2019-10-02       65      False\n2019-10-03       65      False\n2019-10-04       60      False\n2019-10-05       52      False\n2019-10-06       55      False\n2019-10-07       65      False\n2019-10-08       64      False\n2019-10-09       61      False\n2019-10-10       61      False\n2019-10-11       57      False\n2019-10-12       51      False\n2019-10-13       49      False\n2019-10-14       55      False\n2019-10-15       60      False\n2019-10-16       62      False\n2019-10-17       60      False\n2019-10-18       53      False\n2019-10-19       49      False\n2019-10-20       50      False\n2019-10-21       57      False\n2019-10-22       53      False\n2019-10-23       70      False\n2019-10-24       66      False\n2019-10-25       75      False\n2019-10-26      100      False\n2019-10-27       77      False\n2019-10-28       77      False\n2019-10-29       70      False\n2019-10-30       63      False\n2019-10-31       64      False,             Bitcoin  isPartial\ndate                          \n2019-11-01       71      False\n2019-11-02       66      False\n2019-11-03       63      False\n2019-11-04       76      False\n2019-11-05       75      False\n2019-11-06       71      False\n2019-11-07       71      False\n2019-11-08       71      False\n2019-11-09       64      False\n2019-11-10       59      False\n2019-11-11       69      False\n2019-11-12       62      False\n2019-11-13       67      False\n2019-11-14       62      False\n2019-11-15       67      False\n2019-11-16       59      False\n2019-11-17       56      False\n2019-11-18       66      False\n2019-11-19       71      False\n2019-11-20       66      False\n2019-11-21       81      False\n2019-11-22      100      False\n2019-11-23       73      False\n2019-11-24       66      False\n2019-11-25       95      False\n2019-11-26       84      False\n2019-11-27       83      False\n2019-11-28       75      False\n2019-11-29       69      False\n2019-11-30       61      False,             Bitcoin  isPartial\ndate                          \n2019-12-01       81      False\n2019-12-02       82      False\n2019-12-03       85      False\n2019-12-04       83      False\n2019-12-05       82      False\n2019-12-06       82      False\n2019-12-07       69      False\n2019-12-08       68      False\n2019-12-09       74      False\n2019-12-10       78      False\n2019-12-11       75      False\n2019-12-12       77      False\n2019-12-13       79      False\n2019-12-14       78      False\n2019-12-15       70      False\n2019-12-16       82      False\n2019-12-17       97      False\n2019-12-18      100      False\n2019-12-19       96      False\n2019-12-20       85      False\n2019-12-21       77      False\n2019-12-22       73      False\n2019-12-23       89      False\n2019-12-24       78      False\n2019-12-25       78      False\n2019-12-26       81      False\n2019-12-27       77      False\n2019-12-28       76      False\n2019-12-29       76      False\n2019-12-30       74      False\n2019-12-31       73      False,             Bitcoin  isPartial\ndate                          \n2020-01-01       58      False\n2020-01-02       66      False\n2020-01-03       70      False\n2020-01-04       65      False\n2020-01-05       67      False\n2020-01-06       73      False\n2020-01-07       91      False\n2020-01-08      100      False\n2020-01-09       80      False\n2020-01-10       74      False\n2020-01-11       74      False\n2020-01-12       62      False\n2020-01-13       70      False\n2020-01-14       98      False\n2020-01-15       91      False\n2020-01-16       81      False\n2020-01-17       79      False\n2020-01-18       74      False\n2020-01-19       85      False\n2020-01-20       77      False\n2020-01-21       71      False\n2020-01-22       68      False\n2020-01-23       69      False\n2020-01-24       67      False\n2020-01-25       64      False\n2020-01-26       61      False\n2020-01-27       72      False\n2020-01-28       84      False\n2020-01-29       88      False\n2020-01-30       84      False\n2020-01-31       79      False,             Bitcoin  isPartial\ndate                          \n2020-02-01       72      False\n2020-02-02       70      False\n2020-02-03       75      False\n2020-02-04       77      False\n2020-02-05       79      False\n2020-02-06       83      False\n2020-02-07       85      False\n2020-02-08       78      False\n2020-02-09       99      False\n2020-02-10       92      False\n2020-02-11       96      False\n2020-02-12      100      False\n2020-02-13       96      False\n2020-02-14       82      False\n2020-02-15       81      False\n2020-02-16       82      False\n2020-02-17       85      False\n2020-02-18       84      False\n2020-02-19       83      False\n2020-02-20       86      False\n2020-02-21       78      False\n2020-02-22       67      False\n2020-02-23       72      False\n2020-02-24       79      False\n2020-02-25       86      False\n2020-02-26       87      False\n2020-02-27       87      False\n2020-02-28       94      False\n2020-02-29       75      False,             Bitcoin  isPartial\ndate                          \n2020-03-01       29      False\n2020-03-02       32      False\n2020-03-03       31      False\n2020-03-04       33      False\n2020-03-05       33      False\n2020-03-06       32      False\n2020-03-07       27      False\n2020-03-08       32      False\n2020-03-09       52      False\n2020-03-10       40      False\n2020-03-11       36      False\n2020-03-12       75      False\n2020-03-13      100      False\n2020-03-14       65      False\n2020-03-15       53      False\n2020-03-16       70      False\n2020-03-17       62      False\n2020-03-18       54      False\n2020-03-19       61      False\n2020-03-20       62      False\n2020-03-21       52      False\n2020-03-22       46      False\n2020-03-23       50      False\n2020-03-24       48      False\n2020-03-25       44      False\n2020-03-26       40      False\n2020-03-27       39      False\n2020-03-28       40      False\n2020-03-29       40      False\n2020-03-30       38      False\n2020-03-31       35      False,             Bitcoin  isPartial\ndate                          \n2020-04-01       58      False\n2020-04-02       66      False\n2020-04-03       63      False\n2020-04-04       58      False\n2020-04-05       55      False\n2020-04-06       67      False\n2020-04-07       66      False\n2020-04-08       61      False\n2020-04-09       61      False\n2020-04-10       65      False\n2020-04-11       59      False\n2020-04-12       59      False\n2020-04-13       59      False\n2020-04-14       58      False\n2020-04-15       60      False\n2020-04-16       62      False\n2020-04-17       56      False\n2020-04-18       55      False\n2020-04-19       54      False\n2020-04-20       56      False\n2020-04-21       58      False\n2020-04-22       54      False\n2020-04-23       60      False\n2020-04-24       60      False\n2020-04-25       65      False\n2020-04-26       63      False\n2020-04-27       65      False\n2020-04-28       62      False\n2020-04-29       84      False\n2020-04-30      100      False])\n"
     ]
    }
   ],
   "source": [
    "import pandas as pd\n",
    "from datetime import timedelta\n",
    "results = pullTrends([\"Bitcoin\"], '2019-01-01' ,'2020-05-11')\n",
    "\n",
    "print(results)"
   ]
  }
 ]
}